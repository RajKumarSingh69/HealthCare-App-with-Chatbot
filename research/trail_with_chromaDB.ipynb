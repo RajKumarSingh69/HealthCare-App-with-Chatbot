{
 "cells": [
  {
   "cell_type": "code",
   "execution_count": 1,
   "id": "55fc3aaf-f0d1-483f-92a2-29a05cd6cc44",
   "metadata": {},
   "outputs": [],
   "source": [
    "import chromadb\n",
    "import sentence_transformers"
   ]
  },
  {
   "cell_type": "code",
   "execution_count": 2,
   "id": "86f1e66d-c774-42d8-92e6-5fe7b89d7439",
   "metadata": {},
   "outputs": [],
   "source": [
    "# creating the client\n",
    "client=chromadb.Client()\n",
    "collection=client.create_collection(\"demo\") # collection is storing our embeddings"
   ]
  },
  {
   "cell_type": "markdown",
   "id": "ae84ef61-755d-43ab-8ae2-819185deb56e",
   "metadata": {},
   "source": [
    "# By default chroma used the sentence transformer all-MIniLM-L6-v2 model to creat embeddings"
   ]
  },
  {
   "cell_type": "code",
   "execution_count": 3,
   "id": "e98a010c-b029-4227-a321-da725254a199",
   "metadata": {},
   "outputs": [],
   "source": [
    "collection.add(\n",
    "    documents=[\"this is a document about cat\",\"this is a document about car\"],\n",
    "    metadatas=[{\"category\":\"animal\"},{\"category\":\"vehicle\"}],\n",
    "    ids=[\"id1\",\"id2\"]\n",
    ")# here adding the collection without mentioning any embedding mdoel , if we can't then it use its default embedding and fist convert our text into embeddings and then it stores it into the collection in chroma db"
   ]
  },
  {
   "cell_type": "code",
   "execution_count": 4,
   "id": "e11620b9-8e82-443d-a90b-9ed7ec4c5d46",
   "metadata": {},
   "outputs": [
    {
     "data": {
      "text/plain": [
       "{'ids': [['id2']],\n",
       " 'distances': [[0.8069301843643188]],\n",
       " 'metadatas': [[{'category': 'vehicle'}]],\n",
       " 'embeddings': None,\n",
       " 'documents': [['this is a document about car']],\n",
       " 'uris': None,\n",
       " 'data': None}"
      ]
     },
     "execution_count": 4,
     "metadata": {},
     "output_type": "execute_result"
    }
   ],
   "source": [
    "# lets query\n",
    "results=collection.query(\n",
    "    query_texts=['vehicle'],\n",
    "    n_results=1\n",
    ")\n",
    "results"
   ]
  },
  {
   "cell_type": "code",
   "execution_count": 3,
   "id": "22af8398-0d71-4756-8031-b41fd9fd4809",
   "metadata": {},
   "outputs": [],
   "source": [
    "import pypdf\n",
    "from langchain.document_loaders import PyPDFLoader,DirectoryLoader\n",
    "from langchain.text_splitter import RecursiveCharacterTextSplitter"
   ]
  },
  {
   "cell_type": "code",
   "execution_count": 4,
   "id": "d0ffc99e-2922-40a1-a351-7f2115eec646",
   "metadata": {},
   "outputs": [],
   "source": [
    "#Extract data from the pdf\n",
    "def load_pdf(data):\n",
    "    loader=DirectoryLoader(data,\n",
    "        glob=\"*.pdf\",\n",
    "        loader_cls=PyPDFLoader)\n",
    "    doc=loader.load()\n",
    "    return doc"
   ]
  },
  {
   "cell_type": "code",
   "execution_count": 5,
   "id": "ec172726-505e-4030-900e-c96a72939af0",
   "metadata": {},
   "outputs": [],
   "source": [
    "#loading the data\n",
    "extracted_data=load_pdf(\"data/\")"
   ]
  },
  {
   "cell_type": "code",
   "execution_count": 6,
   "id": "8b9517cd-5136-4b99-8747-ef0885c918ee",
   "metadata": {},
   "outputs": [
    {
     "data": {
      "text/plain": [
       "637"
      ]
     },
     "execution_count": 6,
     "metadata": {},
     "output_type": "execute_result"
    }
   ],
   "source": [
    "len(extracted_data)"
   ]
  },
  {
   "cell_type": "code",
   "execution_count": 7,
   "id": "07d08fa4-721d-489e-b454-8966a758226c",
   "metadata": {},
   "outputs": [],
   "source": [
    "# coverting the corpus into chunka\n",
    "#create a text chunks\n",
    "def text_split(extracted_data):\n",
    "    text_splitter=RecursiveCharacterTextSplitter(chunk_size=500,chunk_overlap=20)\n",
    "    text_chunks=text_splitter.split_documents(extracted_data)\n",
    "    return text_chunks  "
   ]
  },
  {
   "cell_type": "code",
   "execution_count": 8,
   "id": "34e78d71-6f13-4c28-9b6d-6f8698280562",
   "metadata": {},
   "outputs": [],
   "source": [
    "text_chunks=text_split(extracted_data)"
   ]
  },
  {
   "cell_type": "code",
   "execution_count": 9,
   "id": "633dac3c-29fa-4789-afa3-e824ea25caf5",
   "metadata": {},
   "outputs": [
    {
     "data": {
      "text/plain": [
       "7020"
      ]
     },
     "execution_count": 9,
     "metadata": {},
     "output_type": "execute_result"
    }
   ],
   "source": [
    "len(text_chunks)"
   ]
  },
  {
   "cell_type": "code",
   "execution_count": 10,
   "id": "0aca8ab7-4493-4ddb-b28a-6bf3679785d6",
   "metadata": {},
   "outputs": [],
   "source": [
    "from sentence_transformers import SentenceTransformer\n",
    "sentences = [\"This is an example sentence\", \"Each sentence is converted\"]\n",
    "\n",
    "model = SentenceTransformer('sentence-transformers/all-MiniLM-L6-v2')"
   ]
  },
  {
   "cell_type": "code",
   "execution_count": 11,
   "id": "8ec28575-986a-49f9-b042-7ed8ce2cffae",
   "metadata": {},
   "outputs": [],
   "source": [
    "batch_embedding_vectors = []\n",
    "\n",
    "# Creating embeddings for each of the text chunks using the model\n",
    "for i, t in enumerate(text_chunks):\n",
    "    embedding = model.encode(t.page_content)\n",
    "    embedding_vector = {'id': str(i), 'values': embedding.tolist()}\n",
    "\n",
    "    # Include text content as metadata\n",
    "    embedding_vector['metadata'] = {'text': t.page_content}\n",
    "\n",
    "    batch_embedding_vectors.append(embedding_vector)\n"
   ]
  },
  {
   "cell_type": "code",
   "execution_count": 12,
   "id": "281ec16b-fbb3-4490-a6a2-ca741bbf456b",
   "metadata": {},
   "outputs": [
    {
     "data": {
      "text/plain": [
       "7020"
      ]
     },
     "execution_count": 12,
     "metadata": {},
     "output_type": "execute_result"
    }
   ],
   "source": [
    "len(batch_embedding_vectors)"
   ]
  },
  {
   "cell_type": "code",
   "execution_count": 13,
   "id": "c0e6dd9f-bcfe-47fd-9e4e-bd296c3f9bc9",
   "metadata": {},
   "outputs": [],
   "source": [
    "from langchain_community.vectorstores import Chroma\n",
    "\n",
    "# Assuming you have already created batch_embedding_vectors as shown before\n",
    "texts = [vector['metadata']['text'] for vector in batch_embedding_vectors]\n",
    "metadatas = [vector['metadata'] for vector in batch_embedding_vectors]\n",
    "embeddings = [vector['values'] for vector in batch_embedding_vectors]\n",
    "ids = [vector['id'] for vector in batch_embedding_vectors]\n",
    "\n",
    "# Create Chroma vector store instance\n",
    "db = Chroma()\n"
   ]
  },
  {
   "cell_type": "code",
   "execution_count": 14,
   "id": "64838289-7b82-4453-a467-cea86888caef",
   "metadata": {},
   "outputs": [],
   "source": [
    "from sentence_transformers import SentenceTransformer\n",
    "sentences = [\"This is an example sentence\", \"Each sentence is converted\"]\n",
    "\n",
    "model = SentenceTransformer('sentence-transformers/all-MiniLM-L6-v2')"
   ]
  },
  {
   "cell_type": "code",
   "execution_count": 15,
   "id": "6ff7c3fe-8234-46ff-94c0-29f41493efbd",
   "metadata": {},
   "outputs": [],
   "source": [
    "from langchain_community.vectorstores import Chroma"
   ]
  },
  {
   "cell_type": "code",
   "execution_count": 16,
   "id": "70ab6aab-f934-4f49-a202-2a2f311c925a",
   "metadata": {},
   "outputs": [],
   "source": [
    "# Create a custom embedding class\n",
    "class CustomEmbeddingFunction:\n",
    "    def __init__(self, text_to_embedding, model):\n",
    "        self.text_to_embedding = text_to_embedding\n",
    "        self.model = model  # Store the model for query embedding\n",
    "\n",
    "    def embed_documents(self, texts):\n",
    "        return [self.text_to_embedding[text] for text in texts]\n",
    "\n",
    "    def embed_query(self, query):\n",
    "        # Use the model to create an embedding for the query\n",
    "        return self.model.encode(query).tolist()\n",
    "\n",
    "# Assuming you have already created batch_embedding_vectors as shown before\n",
    "texts = [vector['metadata']['text'] for vector in batch_embedding_vectors]\n",
    "metadatas = [vector['metadata'] for vector in batch_embedding_vectors]\n",
    "\n",
    "# Create a mapping from texts to their corresponding embeddings\n",
    "text_to_embedding = {vector['metadata']['text']: vector['values'] for vector in batch_embedding_vectors}\n",
    "\n",
    "# Assuming you used a SentenceTransformer model to create embeddings\n",
    "from sentence_transformers import SentenceTransformer\n",
    "model = SentenceTransformer('sentence-transformers/all-MiniLM-L6-v2')\n",
    "\n",
    "# Create an instance of the custom embedding class\n",
    "embedding_function = CustomEmbeddingFunction(text_to_embedding, model)\n",
    "\n",
    "# Create Chroma vector store from texts\n",
    "db = Chroma.from_texts(\n",
    "    texts=texts,\n",
    "    embedding=embedding_function,\n",
    "    metadatas=metadatas\n",
    ")"
   ]
  },
  {
   "cell_type": "code",
   "execution_count": 17,
   "id": "ddb259fd-e246-4a2d-b3e4-87a8ea09cc41",
   "metadata": {},
   "outputs": [
    {
     "data": {
      "text/plain": [
       "Document(page_content=\"GALE ENCYCLOPEDIA OF MEDICINE 2 117Allergies\\nAllergic rhinitis is commonly triggered by\\nexposure to household dust, animal fur,or pollen. The foreign substance thattriggers an allergic reaction is calledan allergen.\\nThe presence of an allergen causes the\\nbody's lymphocytes to begin producingIgE antibodies. The lymphocytes of an allergy sufferer produce an unusuallylarge amount of IgE.\\nIgE molecules attach to mast\\ncells, which contain histamine.HistaminePollen grains\\nLymphocyte\\nFIRST EXPOSURE\", metadata={'text': \"GALE ENCYCLOPEDIA OF MEDICINE 2 117Allergies\\nAllergic rhinitis is commonly triggered by\\nexposure to household dust, animal fur,or pollen. The foreign substance thattriggers an allergic reaction is calledan allergen.\\nThe presence of an allergen causes the\\nbody's lymphocytes to begin producingIgE antibodies. The lymphocytes of an allergy sufferer produce an unusuallylarge amount of IgE.\\nIgE molecules attach to mast\\ncells, which contain histamine.HistaminePollen grains\\nLymphocyte\\nFIRST EXPOSURE\"})"
      ]
     },
     "execution_count": 17,
     "metadata": {},
     "output_type": "execute_result"
    }
   ],
   "source": [
    "query=\"What are Allergies\"\n",
    "result=db.similarity_search(query)\n",
    "result[0]"
   ]
  },
  {
   "cell_type": "code",
   "execution_count": 18,
   "id": "3198026b-4348-4ad2-acc2-ebd6791f65a6",
   "metadata": {},
   "outputs": [
    {
     "data": {
      "text/plain": [
       "Document(page_content='mother in carrying and giving birth to more than one ortwo babies, and also to decrease the risk of complicationsto the remaining fetus(es). The term selective abortionalso refers to choosing to abort a fetus for reasons such asthe woman is carrying a fetus which likely will be bornwith some birth defect or impairment, or because the sexof the fetus is not preferred by the individual.\\nPurpose\\nA woman may decide to abort for health reasons, for', metadata={'text': 'mother in carrying and giving birth to more than one ortwo babies, and also to decrease the risk of complicationsto the remaining fetus(es). The term selective abortionalso refers to choosing to abort a fetus for reasons such asthe woman is carrying a fetus which likely will be bornwith some birth defect or impairment, or because the sexof the fetus is not preferred by the individual.\\nPurpose\\nA woman may decide to abort for health reasons, for'})"
      ]
     },
     "execution_count": 18,
     "metadata": {},
     "output_type": "execute_result"
    }
   ],
   "source": [
    "query=\"What is Selective abortion\"\n",
    "result=db.similarity_search(query)\n",
    "result[0]"
   ]
  },
  {
   "cell_type": "code",
   "execution_count": 19,
   "id": "70ed0c03-48db-429e-bb73-69c7c2344451",
   "metadata": {},
   "outputs": [
    {
     "data": {
      "text/plain": [
       "Document(page_content='• nausea and vomiting or sudden attacks of vomiting not\\naccompanied by nausea\\n• seizures• dizziness, loss of coordination or balance• personality changes• sudden loss of vision• memory loss• speech problems• sensory changes• mental impairment• weakness or paralysis on one side of the body\\nA doctor should be notified whenever a patient expe-\\nriences one or more of the symptoms.\\nDiagnosis\\nAlthough brain tumor symptoms resemble those of', metadata={'text': '• nausea and vomiting or sudden attacks of vomiting not\\naccompanied by nausea\\n• seizures• dizziness, loss of coordination or balance• personality changes• sudden loss of vision• memory loss• speech problems• sensory changes• mental impairment• weakness or paralysis on one side of the body\\nA doctor should be notified whenever a patient expe-\\nriences one or more of the symptoms.\\nDiagnosis\\nAlthough brain tumor symptoms resemble those of'})"
      ]
     },
     "execution_count": 19,
     "metadata": {},
     "output_type": "execute_result"
    }
   ],
   "source": [
    "query=\"what are the symptoms of cancer\"\n",
    "result=db.similarity_search(query)\n",
    "result[0]"
   ]
  },
  {
   "cell_type": "code",
   "execution_count": 20,
   "id": "7d54962a-5755-40e1-8602-f3cbfe8bef89",
   "metadata": {},
   "outputs": [
    {
     "data": {
      "text/plain": [
       "'from chromadb.config import Settings\\nclient=chromadb.Client(Settings(\\n    chroma_db_impl=\"medical+chatbot\",\\n    persist_directory=\"chatbot_db\"))'"
      ]
     },
     "execution_count": 20,
     "metadata": {},
     "output_type": "execute_result"
    }
   ],
   "source": [
    "# youtub tutorial by Pradip Nichite\n",
    "\"\"\"from chromadb.config import Settings\n",
    "client=chromadb.Client(Settings(\n",
    "    chroma_db_impl=\"medical+chatbot\",\n",
    "    persist_directory=\"chatbot_db\"))\"\"\"\n",
    "#By this code it will create a directory with name of chatbot where it will store all embeddings"
   ]
  },
  {
   "cell_type": "code",
   "execution_count": 21,
   "id": "464e0d5a-c70a-4775-9e88-874fb1f3d7bd",
   "metadata": {},
   "outputs": [],
   "source": [
    "#for saving for chroma db file embedidng in zip file\n",
    "#!zip -r \"db name\" \"new name"
   ]
  },
  {
   "cell_type": "code",
   "execution_count": 22,
   "id": "7d06dffe-9e73-4de1-8e9b-3c09e7b3f27d",
   "metadata": {},
   "outputs": [],
   "source": [
    "# defining our prompt template\n",
    "prompt_template=\"\"\"\n",
    "use the following pieces of information to answer the user's question\n",
    "If you don't know the answer , just say that you don't know, don't try to make up an answer.\n",
    "\n",
    "Context:{context}\n",
    "Question:{question}\n",
    "\n",
    "Only return the helpful answer below and nothing else.\n",
    "Helpful answer:\n",
    "\"\"\"\n"
   ]
  },
  {
   "cell_type": "code",
   "execution_count": null,
   "id": "5305bedc-3d8f-4f7e-8068-711eee87e6d3",
   "metadata": {},
   "outputs": [],
   "source": []
  },
  {
   "cell_type": "code",
   "execution_count": 23,
   "id": "1accf64d-95d6-4e18-a64d-1890efb3e6cf",
   "metadata": {},
   "outputs": [],
   "source": [
    "from langchain import PromptTemplate\n",
    "from langchain.chains import RetrievalQA \n",
    "from langchain.embeddings import HuggingFaceEmbeddings\n",
    "from langchain.vectorstores import Pinecone\n",
    "import pypdf\n",
    "from langchain.document_loaders import PyPDFLoader,DirectoryLoader\n",
    "from langchain.text_splitter import RecursiveCharacterTextSplitter\n",
    "from langchain.prompts import PromptTemplate\n",
    "from langchain.llms import CTransformers\n",
    "import sentence_transformers\n",
    "from langchain.chains.question_answering import load_qa_chain"
   ]
  },
  {
   "cell_type": "code",
   "execution_count": null,
   "id": "052dbd68-c024-44ef-aa05-cbe613fff766",
   "metadata": {},
   "outputs": [],
   "source": []
  },
  {
   "cell_type": "code",
   "execution_count": 24,
   "id": "b7d360ab-636e-43dc-905d-b1f5ad656c97",
   "metadata": {},
   "outputs": [],
   "source": [
    "PROMPT=PromptTemplate(template=prompt_template,input_variables=['context','question'])\n",
    "chain_type_kwargs={'prompt':PROMPT}"
   ]
  },
  {
   "cell_type": "code",
   "execution_count": 25,
   "id": "874f2282-b3fa-45e7-960f-00335a06f252",
   "metadata": {},
   "outputs": [],
   "source": [
    "#Loading our Llama model\n",
    "llm=CTransformers(model=\"model/llama-2-7b-chat.ggmlv3.q4_0.bin\",\n",
    "                 model_type=\"llama\",\n",
    "                 config={'max_new_tokens':512,\n",
    "                         'temperature':0.8})"
   ]
  },
  {
   "cell_type": "code",
   "execution_count": 26,
   "id": "a2516e8c-2b1c-4bfd-970d-7d4dfdf262e9",
   "metadata": {},
   "outputs": [],
   "source": [
    "chain=load_qa_chain(llm,chain_type=\"stuff\")"
   ]
  },
  {
   "cell_type": "code",
   "execution_count": 28,
   "id": "b652f9a2-4f06-455d-b4dd-ca702377d3f3",
   "metadata": {},
   "outputs": [
    {
     "name": "stdout",
     "output_type": "stream",
     "text": [
      "{'input_documents': [Document(page_content='• nausea and vomiting or sudden attacks of vomiting not\\naccompanied by nausea\\n• seizures• dizziness, loss of coordination or balance• personality changes• sudden loss of vision• memory loss• speech problems• sensory changes• mental impairment• weakness or paralysis on one side of the body\\nA doctor should be notified whenever a patient expe-\\nriences one or more of the symptoms.\\nDiagnosis\\nAlthough brain tumor symptoms resemble those of', metadata={'text': '• nausea and vomiting or sudden attacks of vomiting not\\naccompanied by nausea\\n• seizures• dizziness, loss of coordination or balance• personality changes• sudden loss of vision• memory loss• speech problems• sensory changes• mental impairment• weakness or paralysis on one side of the body\\nA doctor should be notified whenever a patient expe-\\nriences one or more of the symptoms.\\nDiagnosis\\nAlthough brain tumor symptoms resemble those of'}), Document(page_content='Most individuals with anal cancer are over the age of 50.\\nSymptoms of anal cancer resemble those found in\\nother harmless conditions. They include pain ,itching\\nand bleeding, straining during a bowel movement,change in bowel habits, change in the diameter of thestool, discharge from the anus, and swollen lymph nodesin the anal or groin area.\\nDiagnosis\\nAnal cancer is sometimes diagnosed during routine', metadata={'text': 'Most individuals with anal cancer are over the age of 50.\\nSymptoms of anal cancer resemble those found in\\nother harmless conditions. They include pain ,itching\\nand bleeding, straining during a bowel movement,change in bowel habits, change in the diameter of thestool, discharge from the anus, and swollen lymph nodesin the anal or groin area.\\nDiagnosis\\nAnal cancer is sometimes diagnosed during routine'}), Document(page_content='many other illnesses, the presence of a brain tumor maybe indicated by:\\n• persistent headaches with vomiting or convulsions• progressive deterioration of sight, speech, hearing,\\ntouch; or deterioration in the ability to use an arm,hand, foot, or leg\\nWhen a patient experiences one or more of the\\nabove symptoms, a primary care physician will performa complete physical examination , take a detailed med-\\nical history, and conduct a basic neurologic examinationto evaluate:', metadata={'text': 'many other illnesses, the presence of a brain tumor maybe indicated by:\\n• persistent headaches with vomiting or convulsions• progressive deterioration of sight, speech, hearing,\\ntouch; or deterioration in the ability to use an arm,hand, foot, or leg\\nWhen a patient experiences one or more of the\\nabove symptoms, a primary care physician will performa complete physical examination , take a detailed med-\\nical history, and conduct a basic neurologic examinationto evaluate:'}), Document(page_content='needing to urinate but not being able to do so are some ofthe signs of possible bladder cancer. All of these symptomsmay also be caused by conditions other than cancer, but itis important to see a doctor and have the symptoms evaluat-ed. When detected early and treated appropriately, patientshave a very good chance of being cured completely.\\nDiagnosis\\nIf a doctor has any reason to suspect bladder cancer, he', metadata={'text': 'needing to urinate but not being able to do so are some ofthe signs of possible bladder cancer. All of these symptomsmay also be caused by conditions other than cancer, but itis important to see a doctor and have the symptoms evaluat-ed. When detected early and treated appropriately, patientshave a very good chance of being cured completely.\\nDiagnosis\\nIf a doctor has any reason to suspect bladder cancer, he'})], 'question': 'What are the symptoms of cancer', 'output_text': ' According to the text, the symptoms of cancer can include persistent headaches with nause significant changes depending on vary depending oncernetail in-not be difficult to vary depending on include persistent headaches and do several different depending on average as follows:\\n• be divided into variously include nause nause sudden loss oferivclude nause acheapest include: cause persistent headaches, but are nause sudden loss of course ailistall depend onset in-not be diverse and do vary depending oncernary from a wide-include nause significant and do a) include persistent headaches,\\nresemble as follows: (and may include nause a range from nause nause nause disruptiate nause sudden loss offten resemble a variety depending on include persistent headaches, among others. include nause nause nause nause nause nause significant and do vary depending on include sudden vision, vary depending ony include:\\nvary of course variously include: •nclude nause people can vary depending ony vary depending on include persistent headaches, but are: cause a wide range from mimitate to some up to include persistent headaches, include nause significant and doseverify include persistent headaches, include nause sudden loss of different depending on include persistent headaches with nause nause pain, but not be nause changes inl include: include: include persistent headaches, among others include nause sudden attacks of a wide-\\nvary from ailclude nause sudden loss of\\nThe symptoms vary depending on various and do a) include persistent headaches, but are nause nause nause nause sudden loss oftertainclude nause pain, include:\\ninclude:\\nvary of course acheapologically include persistent headaches, among others include persistent headaches with nause nause pain, depending on include persistent headaches with anal cancer can vary depending on include persistent headaches, include nause sudden attacks of the following: cause: (but are:\\n• nause significant and do vary depending on include persistent headaches,t include sudden loss of course a wide-not be diverse and do a wide range from nause sudden loss of brain tumor may include nause sudden loss ofterritely be quite broadly include persistent headaches with nause nause ailclude:\\nvary of the following: cause nause significant and do vary depending oncern'}\n"
     ]
    }
   ],
   "source": [
    "query = \"What are the symptoms of cancer\"\n",
    "matching_doc = db.similarity_search(query)\n",
    "\n",
    "# Adjust the invocation to pass a single dictionary argument\n",
    "input_data = {\n",
    "    \"input_documents\": matching_doc,\n",
    "    \"question\": query\n",
    "}\n",
    "\n",
    "# Use invoke method with the correct input\n",
    "answer = chain.invoke(input_data)\n",
    "print(answer)\n"
   ]
  },
  {
   "cell_type": "code",
   "execution_count": null,
   "id": "1289efdf-ba97-4c27-9e53-82ed5fc8daa0",
   "metadata": {},
   "outputs": [],
   "source": [
    "#doc=docsearch.similarity_search(query,k=3)"
   ]
  },
  {
   "cell_type": "code",
   "execution_count": 29,
   "id": "1ebdbca8-ca43-4a31-86ac-7cbf86998cbf",
   "metadata": {},
   "outputs": [],
   "source": [
    "# now we need to create our question answering object\n",
    "qa=RetrievalQA.from_chain_type(\n",
    "    llm=llm,\n",
    "    chain_type=\"stuff\",\n",
    "    retriever=db.as_retriever(),\n",
    "    return_source_documents=True,\n",
    "    chain_type_kwargs=chain_type_kwargs)"
   ]
  },
  {
   "cell_type": "code",
   "execution_count": 30,
   "id": "94a26c3f-e116-4cad-a5b3-44bc05e71a43",
   "metadata": {},
   "outputs": [
    {
     "data": {
      "text/plain": [
       "'qa=RetrievalQA.from_chain_type(\\n    llm=llm, \\n    chain_type=\"stuff\", \\n    retriever=docsearch.as_retriever(search_kwargs={\\'k\\': 2}),\\n    return_source_documents=True, \\n    chain_type_kwargs=chain_type_kwargs)'"
      ]
     },
     "execution_count": 30,
     "metadata": {},
     "output_type": "execute_result"
    }
   ],
   "source": [
    "'''qa=RetrievalQA.from_chain_type(\n",
    "    llm=llm, \n",
    "    chain_type=\"stuff\", \n",
    "    retriever=docsearch.as_retriever(search_kwargs={'k': 2}),\n",
    "    return_source_documents=True, \n",
    "    chain_type_kwargs=chain_type_kwargs)'''"
   ]
  },
  {
   "cell_type": "code",
   "execution_count": 31,
   "id": "81f12631-dfec-4c2f-92b9-a969cb9cadca",
   "metadata": {},
   "outputs": [
    {
     "name": "stdin",
     "output_type": "stream",
     "text": [
      "Input Prompt: What is Selective abortion\n"
     ]
    },
    {
     "name": "stderr",
     "output_type": "stream",
     "text": [
      "C:\\Users\\rajkr\\AppData\\Local\\Programs\\Python\\Python311\\Lib\\site-packages\\langchain_core\\_api\\deprecation.py:119: LangChainDeprecationWarning: The method `Chain.__call__` was deprecated in langchain 0.1.0 and will be removed in 0.3.0. Use invoke instead.\n",
      "  warn_deprecated(\n"
     ]
    },
    {
     "name": "stdout",
     "output_type": "stream",
     "text": [
      "Response :  Selective abortion, also known as selective selection reduction, selective reducselective reducselelective, selective pregnosis, selective reduction, selective reduc selectsreductionaltereotective reductions to decrease the termination of fetal reductusually referred to selective reducselective reduction, selective as elective for choose who aredualso reduction abortion, selective reductions.\n"
     ]
    },
    {
     "ename": "KeyboardInterrupt",
     "evalue": "Interrupted by user",
     "output_type": "error",
     "traceback": [
      "\u001b[1;31m---------------------------------------------------------------------------\u001b[0m",
      "\u001b[1;31mKeyboardInterrupt\u001b[0m                         Traceback (most recent call last)",
      "Cell \u001b[1;32mIn[31], line 2\u001b[0m\n\u001b[0;32m      1\u001b[0m \u001b[38;5;28;01mwhile\u001b[39;00m \u001b[38;5;28;01mTrue\u001b[39;00m:\n\u001b[1;32m----> 2\u001b[0m     user_input\u001b[38;5;241m=\u001b[39m\u001b[38;5;28;43minput\u001b[39;49m\u001b[43m(\u001b[49m\u001b[38;5;124;43mf\u001b[39;49m\u001b[38;5;124;43m\"\u001b[39;49m\u001b[38;5;124;43mInput Prompt:\u001b[39;49m\u001b[38;5;124;43m\"\u001b[39;49m\u001b[43m)\u001b[49m\n\u001b[0;32m      3\u001b[0m     result\u001b[38;5;241m=\u001b[39mqa({\u001b[38;5;124m\"\u001b[39m\u001b[38;5;124mquery\u001b[39m\u001b[38;5;124m\"\u001b[39m: user_input})\n\u001b[0;32m      4\u001b[0m     \u001b[38;5;28mprint\u001b[39m(\u001b[38;5;124m\"\u001b[39m\u001b[38;5;124mResponse : \u001b[39m\u001b[38;5;124m\"\u001b[39m, result[\u001b[38;5;124m\"\u001b[39m\u001b[38;5;124mresult\u001b[39m\u001b[38;5;124m\"\u001b[39m])\n",
      "File \u001b[1;32m~\\AppData\\Local\\Programs\\Python\\Python311\\Lib\\site-packages\\ipykernel\\kernelbase.py:1202\u001b[0m, in \u001b[0;36mKernel.raw_input\u001b[1;34m(self, prompt)\u001b[0m\n\u001b[0;32m   1200\u001b[0m     msg \u001b[38;5;241m=\u001b[39m \u001b[38;5;124m\"\u001b[39m\u001b[38;5;124mraw_input was called, but this frontend does not support input requests.\u001b[39m\u001b[38;5;124m\"\u001b[39m\n\u001b[0;32m   1201\u001b[0m     \u001b[38;5;28;01mraise\u001b[39;00m StdinNotImplementedError(msg)\n\u001b[1;32m-> 1202\u001b[0m \u001b[38;5;28;01mreturn\u001b[39;00m \u001b[38;5;28;43mself\u001b[39;49m\u001b[38;5;241;43m.\u001b[39;49m\u001b[43m_input_request\u001b[49m\u001b[43m(\u001b[49m\n\u001b[0;32m   1203\u001b[0m \u001b[43m    \u001b[49m\u001b[38;5;28;43mstr\u001b[39;49m\u001b[43m(\u001b[49m\u001b[43mprompt\u001b[49m\u001b[43m)\u001b[49m\u001b[43m,\u001b[49m\n\u001b[0;32m   1204\u001b[0m \u001b[43m    \u001b[49m\u001b[38;5;28;43mself\u001b[39;49m\u001b[38;5;241;43m.\u001b[39;49m\u001b[43m_parent_ident\u001b[49m\u001b[43m[\u001b[49m\u001b[38;5;124;43m\"\u001b[39;49m\u001b[38;5;124;43mshell\u001b[39;49m\u001b[38;5;124;43m\"\u001b[39;49m\u001b[43m]\u001b[49m\u001b[43m,\u001b[49m\n\u001b[0;32m   1205\u001b[0m \u001b[43m    \u001b[49m\u001b[38;5;28;43mself\u001b[39;49m\u001b[38;5;241;43m.\u001b[39;49m\u001b[43mget_parent\u001b[49m\u001b[43m(\u001b[49m\u001b[38;5;124;43m\"\u001b[39;49m\u001b[38;5;124;43mshell\u001b[39;49m\u001b[38;5;124;43m\"\u001b[39;49m\u001b[43m)\u001b[49m\u001b[43m,\u001b[49m\n\u001b[0;32m   1206\u001b[0m \u001b[43m    \u001b[49m\u001b[43mpassword\u001b[49m\u001b[38;5;241;43m=\u001b[39;49m\u001b[38;5;28;43;01mFalse\u001b[39;49;00m\u001b[43m,\u001b[49m\n\u001b[0;32m   1207\u001b[0m \u001b[43m\u001b[49m\u001b[43m)\u001b[49m\n",
      "File \u001b[1;32m~\\AppData\\Local\\Programs\\Python\\Python311\\Lib\\site-packages\\ipykernel\\kernelbase.py:1245\u001b[0m, in \u001b[0;36mKernel._input_request\u001b[1;34m(self, prompt, ident, parent, password)\u001b[0m\n\u001b[0;32m   1242\u001b[0m \u001b[38;5;28;01mexcept\u001b[39;00m \u001b[38;5;167;01mKeyboardInterrupt\u001b[39;00m:\n\u001b[0;32m   1243\u001b[0m     \u001b[38;5;66;03m# re-raise KeyboardInterrupt, to truncate traceback\u001b[39;00m\n\u001b[0;32m   1244\u001b[0m     msg \u001b[38;5;241m=\u001b[39m \u001b[38;5;124m\"\u001b[39m\u001b[38;5;124mInterrupted by user\u001b[39m\u001b[38;5;124m\"\u001b[39m\n\u001b[1;32m-> 1245\u001b[0m     \u001b[38;5;28;01mraise\u001b[39;00m \u001b[38;5;167;01mKeyboardInterrupt\u001b[39;00m(msg) \u001b[38;5;28;01mfrom\u001b[39;00m \u001b[38;5;28;01mNone\u001b[39;00m\n\u001b[0;32m   1246\u001b[0m \u001b[38;5;28;01mexcept\u001b[39;00m \u001b[38;5;167;01mException\u001b[39;00m:\n\u001b[0;32m   1247\u001b[0m     \u001b[38;5;28mself\u001b[39m\u001b[38;5;241m.\u001b[39mlog\u001b[38;5;241m.\u001b[39mwarning(\u001b[38;5;124m\"\u001b[39m\u001b[38;5;124mInvalid Message:\u001b[39m\u001b[38;5;124m\"\u001b[39m, exc_info\u001b[38;5;241m=\u001b[39m\u001b[38;5;28;01mTrue\u001b[39;00m)\n",
      "\u001b[1;31mKeyboardInterrupt\u001b[0m: Interrupted by user"
     ]
    }
   ],
   "source": [
    "while True:\n",
    "    user_input=input(f\"Input Prompt:\")\n",
    "    result=qa({\"query\": user_input})\n",
    "    print(\"Response : \", result[\"result\"])"
   ]
  }
 ],
 "metadata": {
  "kernelspec": {
   "display_name": "Python 3 (ipykernel)",
   "language": "python",
   "name": "python3"
  },
  "language_info": {
   "codemirror_mode": {
    "name": "ipython",
    "version": 3
   },
   "file_extension": ".py",
   "mimetype": "text/x-python",
   "name": "python",
   "nbconvert_exporter": "python",
   "pygments_lexer": "ipython3",
   "version": "3.11.5"
  }
 },
 "nbformat": 4,
 "nbformat_minor": 5
}
