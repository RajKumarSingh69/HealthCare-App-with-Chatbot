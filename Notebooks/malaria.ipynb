{
 "cells": [
  {
   "cell_type": "markdown",
   "metadata": {},
   "source": [
    "## Creating CNN Using Scratch And Transfer Learning"
   ]
  },
  {
   "cell_type": "markdown",
   "metadata": {},
   "source": [
    "Please download the dataset from the below url"
   ]
  },
  {
   "cell_type": "code",
   "execution_count": 1,
   "metadata": {},
   "outputs": [],
   "source": [
    "# import the libraries as shown below\n",
    "\n",
    "from tensorflow.keras.layers import Input, Lambda, Dense, Flatten,Conv2D\n",
    "from tensorflow.keras.models import Model\n",
    "from tensorflow.keras.applications.vgg19 import VGG19\n",
    "from tensorflow.keras.applications.resnet50 import preprocess_input\n",
    "from tensorflow.keras.preprocessing import image\n",
    "from tensorflow.keras.preprocessing.image import ImageDataGenerator,load_img\n",
    "from tensorflow.keras.models import Sequential\n",
    "import numpy as np\n",
    "from glob import glob\n",
    "import matplotlib.pyplot as plt"
   ]
  },
  {
   "cell_type": "code",
   "execution_count": 11,
   "metadata": {},
   "outputs": [],
   "source": [
    "# re-size all the images to this\n",
    "IMAGE_SIZE = [224, 224]\n",
    "\n",
    "train_path = 'Dataset/Dataset/Train'\n",
    "valid_path = 'Dataset/Dataset/Test'\n"
   ]
  },
  {
   "cell_type": "code",
   "execution_count": 16,
   "metadata": {},
   "outputs": [
    {
     "data": {
      "text/plain": [
       "21"
      ]
     },
     "execution_count": 16,
     "metadata": {},
     "output_type": "execute_result"
    }
   ],
   "source": [
    "len(train_path)"
   ]
  },
  {
   "cell_type": "code",
   "execution_count": 12,
   "metadata": {},
   "outputs": [],
   "source": [
    "# Import the Vgg 16 library as shown below and add preprocessing layer to the front of VGG\n",
    "# Here we will be using imagenet weights\n",
    "\n",
    "mobilnet = VGG19(input_shape=IMAGE_SIZE + [3], weights='imagenet', include_top=False)\n",
    "\n",
    "\n"
   ]
  },
  {
   "cell_type": "code",
   "execution_count": 17,
   "metadata": {},
   "outputs": [],
   "source": [
    "# don't train existing weights\n",
    "for layer in mobilnet.layers:\n",
    "    layer.trainable = False"
   ]
  },
  {
   "cell_type": "code",
   "execution_count": 18,
   "metadata": {},
   "outputs": [],
   "source": [
    "  # useful for getting number of output classes\n",
    "folders = glob('Dataset/Dataset/Train*')"
   ]
  },
  {
   "cell_type": "code",
   "execution_count": 19,
   "metadata": {},
   "outputs": [
    {
     "data": {
      "text/plain": [
       "['Dataset/Dataset\\\\Train']"
      ]
     },
     "execution_count": 19,
     "metadata": {},
     "output_type": "execute_result"
    }
   ],
   "source": [
    "folders"
   ]
  },
  {
   "cell_type": "code",
   "execution_count": 20,
   "metadata": {},
   "outputs": [],
   "source": [
    "# our layers - you can add more if you want\n",
    "x = Flatten()(mobilnet.output)"
   ]
  },
  {
   "cell_type": "code",
   "execution_count": 21,
   "metadata": {},
   "outputs": [],
   "source": [
    "prediction = Dense(len(folders), activation='softmax')(x)\n",
    "\n",
    "# create a model object\n",
    "model = Model(inputs=mobilnet.input, outputs=prediction)"
   ]
  },
  {
   "cell_type": "code",
   "execution_count": 22,
   "metadata": {},
   "outputs": [
    {
     "name": "stdout",
     "output_type": "stream",
     "text": [
      "Model: \"model\"\n",
      "_________________________________________________________________\n",
      " Layer (type)                Output Shape              Param #   \n",
      "=================================================================\n",
      " input_2 (InputLayer)        [(None, 224, 224, 3)]     0         \n",
      "                                                                 \n",
      " block1_conv1 (Conv2D)       (None, 224, 224, 64)      1792      \n",
      "                                                                 \n",
      " block1_conv2 (Conv2D)       (None, 224, 224, 64)      36928     \n",
      "                                                                 \n",
      " block1_pool (MaxPooling2D)  (None, 112, 112, 64)      0         \n",
      "                                                                 \n",
      " block2_conv1 (Conv2D)       (None, 112, 112, 128)     73856     \n",
      "                                                                 \n",
      " block2_conv2 (Conv2D)       (None, 112, 112, 128)     147584    \n",
      "                                                                 \n",
      " block2_pool (MaxPooling2D)  (None, 56, 56, 128)       0         \n",
      "                                                                 \n",
      " block3_conv1 (Conv2D)       (None, 56, 56, 256)       295168    \n",
      "                                                                 \n",
      " block3_conv2 (Conv2D)       (None, 56, 56, 256)       590080    \n",
      "                                                                 \n",
      " block3_conv3 (Conv2D)       (None, 56, 56, 256)       590080    \n",
      "                                                                 \n",
      " block3_conv4 (Conv2D)       (None, 56, 56, 256)       590080    \n",
      "                                                                 \n",
      " block3_pool (MaxPooling2D)  (None, 28, 28, 256)       0         \n",
      "                                                                 \n",
      " block4_conv1 (Conv2D)       (None, 28, 28, 512)       1180160   \n",
      "                                                                 \n",
      " block4_conv2 (Conv2D)       (None, 28, 28, 512)       2359808   \n",
      "                                                                 \n",
      " block4_conv3 (Conv2D)       (None, 28, 28, 512)       2359808   \n",
      "                                                                 \n",
      " block4_conv4 (Conv2D)       (None, 28, 28, 512)       2359808   \n",
      "                                                                 \n",
      " block4_pool (MaxPooling2D)  (None, 14, 14, 512)       0         \n",
      "                                                                 \n",
      " block5_conv1 (Conv2D)       (None, 14, 14, 512)       2359808   \n",
      "                                                                 \n",
      " block5_conv2 (Conv2D)       (None, 14, 14, 512)       2359808   \n",
      "                                                                 \n",
      " block5_conv3 (Conv2D)       (None, 14, 14, 512)       2359808   \n",
      "                                                                 \n",
      " block5_conv4 (Conv2D)       (None, 14, 14, 512)       2359808   \n",
      "                                                                 \n",
      " block5_pool (MaxPooling2D)  (None, 7, 7, 512)         0         \n",
      "                                                                 \n",
      " flatten (Flatten)           (None, 25088)             0         \n",
      "                                                                 \n",
      " dense (Dense)               (None, 1)                 25089     \n",
      "                                                                 \n",
      "=================================================================\n",
      "Total params: 20049473 (76.48 MB)\n",
      "Trainable params: 25089 (98.00 KB)\n",
      "Non-trainable params: 20024384 (76.39 MB)\n",
      "_________________________________________________________________\n"
     ]
    }
   ],
   "source": [
    "\n",
    "# view the structure of the model\n",
    "model.summary()\n"
   ]
  },
  {
   "cell_type": "code",
   "execution_count": 23,
   "metadata": {},
   "outputs": [],
   "source": [
    "from tensorflow.keras.layers import MaxPooling2D"
   ]
  },
  {
   "cell_type": "code",
   "execution_count": 24,
   "metadata": {},
   "outputs": [
    {
     "name": "stdout",
     "output_type": "stream",
     "text": [
      "Model: \"sequential\"\n",
      "_________________________________________________________________\n",
      " Layer (type)                Output Shape              Param #   \n",
      "=================================================================\n",
      " conv2d (Conv2D)             (None, 224, 224, 16)      208       \n",
      "                                                                 \n",
      " max_pooling2d (MaxPooling2  (None, 112, 112, 16)      0         \n",
      " D)                                                              \n",
      "                                                                 \n",
      " conv2d_1 (Conv2D)           (None, 112, 112, 32)      2080      \n",
      "                                                                 \n",
      " max_pooling2d_1 (MaxPoolin  (None, 56, 56, 32)        0         \n",
      " g2D)                                                            \n",
      "                                                                 \n",
      " conv2d_2 (Conv2D)           (None, 56, 56, 64)        8256      \n",
      "                                                                 \n",
      " max_pooling2d_2 (MaxPoolin  (None, 28, 28, 64)        0         \n",
      " g2D)                                                            \n",
      "                                                                 \n",
      " flatten_1 (Flatten)         (None, 50176)             0         \n",
      "                                                                 \n",
      " dense_1 (Dense)             (None, 500)               25088500  \n",
      "                                                                 \n",
      " dense_2 (Dense)             (None, 2)                 1002      \n",
      "                                                                 \n",
      "=================================================================\n",
      "Total params: 25100046 (95.75 MB)\n",
      "Trainable params: 25100046 (95.75 MB)\n",
      "Non-trainable params: 0 (0.00 Byte)\n",
      "_________________________________________________________________\n"
     ]
    }
   ],
   "source": [
    "### Create Model from scratch using CNN\n",
    "model=Sequential()\n",
    "model.add(Conv2D(filters=16,kernel_size=2,padding=\"same\",activation=\"relu\",input_shape=(224,224,3)))\n",
    "model.add(MaxPooling2D(pool_size=2))\n",
    "model.add(Conv2D(filters=32,kernel_size=2,padding=\"same\",activation =\"relu\"))\n",
    "model.add(MaxPooling2D(pool_size=2))\n",
    "model.add(Conv2D(filters=64,kernel_size=2,padding=\"same\",activation=\"relu\"))\n",
    "model.add(MaxPooling2D(pool_size=2))\n",
    "model.add(Flatten())\n",
    "model.add(Dense(500,activation=\"relu\"))\n",
    "model.add(Dense(2,activation=\"softmax\"))\n",
    "model.summary()"
   ]
  },
  {
   "cell_type": "code",
   "execution_count": 25,
   "metadata": {},
   "outputs": [],
   "source": [
    "# tell the model what cost and optimization method to use\n",
    "model.compile(\n",
    "  loss='categorical_crossentropy',\n",
    "  optimizer='adam',\n",
    "  metrics=['accuracy']\n",
    ")\n"
   ]
  },
  {
   "cell_type": "code",
   "execution_count": 26,
   "metadata": {},
   "outputs": [],
   "source": [
    "# Use the Image Data Generator to import the images from the dataset\n",
    "from tensorflow.keras.preprocessing.image import ImageDataGenerator\n",
    "\n",
    "train_datagen = ImageDataGenerator(rescale = 1./255,\n",
    "                                   shear_range = 0.2,\n",
    "                                   zoom_range = 0.2,\n",
    "                                   horizontal_flip = True)\n",
    "\n",
    "test_datagen = ImageDataGenerator(rescale = 1./255)"
   ]
  },
  {
   "cell_type": "code",
   "execution_count": 27,
   "metadata": {},
   "outputs": [
    {
     "name": "stdout",
     "output_type": "stream",
     "text": [
      "Found 416 images belonging to 2 classes.\n"
     ]
    }
   ],
   "source": [
    "# Make sure you provide the same target size as initialied for the image size\n",
    "training_set = train_datagen.flow_from_directory('Dataset/Dataset/Train',\n",
    "                                                 target_size = (224, 224),\n",
    "                                                 batch_size = 32,\n",
    "                                                 class_mode = 'categorical')"
   ]
  },
  {
   "cell_type": "code",
   "execution_count": 28,
   "metadata": {},
   "outputs": [
    {
     "data": {
      "text/plain": [
       "<keras.src.preprocessing.image.DirectoryIterator at 0x2ab9f7d0e50>"
      ]
     },
     "execution_count": 28,
     "metadata": {},
     "output_type": "execute_result"
    }
   ],
   "source": [
    "training_set"
   ]
  },
  {
   "cell_type": "code",
   "execution_count": 29,
   "metadata": {},
   "outputs": [
    {
     "name": "stdout",
     "output_type": "stream",
     "text": [
      "Found 134 images belonging to 2 classes.\n"
     ]
    }
   ],
   "source": [
    "test_set = test_datagen.flow_from_directory('Dataset/Dataset/Test',\n",
    "                                            target_size = (224, 224),\n",
    "                                            batch_size = 32,\n",
    "                                            class_mode = 'categorical')"
   ]
  },
  {
   "cell_type": "code",
   "execution_count": 31,
   "metadata": {
    "scrolled": true
   },
   "outputs": [
    {
     "name": "stderr",
     "output_type": "stream",
     "text": [
      "C:\\Users\\rajkr\\AppData\\Local\\Temp\\ipykernel_4216\\4102162479.py:3: UserWarning: `Model.fit_generator` is deprecated and will be removed in a future version. Please use `Model.fit`, which supports generators.\n",
      "  r = model.fit_generator(\n"
     ]
    },
    {
     "name": "stdout",
     "output_type": "stream",
     "text": [
      "Epoch 1/50\n",
      "13/13 [==============================] - 29s 2s/step - loss: 1.7039 - accuracy: 0.5240 - val_loss: 0.6589 - val_accuracy: 0.6791\n",
      "Epoch 2/50\n",
      "13/13 [==============================] - 22s 2s/step - loss: 0.6699 - accuracy: 0.6394 - val_loss: 0.7700 - val_accuracy: 0.3284\n",
      "Epoch 3/50\n",
      "13/13 [==============================] - 19s 1s/step - loss: 0.5307 - accuracy: 0.7548 - val_loss: 0.9406 - val_accuracy: 0.3507\n",
      "Epoch 4/50\n",
      "13/13 [==============================] - 21s 2s/step - loss: 0.4721 - accuracy: 0.7572 - val_loss: 1.2308 - val_accuracy: 0.2313\n",
      "Epoch 5/50\n",
      "13/13 [==============================] - 18s 1s/step - loss: 0.4572 - accuracy: 0.7764 - val_loss: 0.9448 - val_accuracy: 0.3209\n",
      "Epoch 6/50\n",
      "13/13 [==============================] - 17s 1s/step - loss: 0.4257 - accuracy: 0.8053 - val_loss: 1.2795 - val_accuracy: 0.3358\n",
      "Epoch 7/50\n",
      "13/13 [==============================] - 17s 1s/step - loss: 0.4439 - accuracy: 0.7861 - val_loss: 1.0172 - val_accuracy: 0.3806\n",
      "Epoch 8/50\n",
      "13/13 [==============================] - 17s 1s/step - loss: 0.4115 - accuracy: 0.7957 - val_loss: 0.8182 - val_accuracy: 0.4478\n",
      "Epoch 9/50\n",
      "13/13 [==============================] - 17s 1s/step - loss: 0.3989 - accuracy: 0.8101 - val_loss: 0.7589 - val_accuracy: 0.4328\n",
      "Epoch 10/50\n",
      "13/13 [==============================] - 17s 1s/step - loss: 0.3402 - accuracy: 0.8582 - val_loss: 0.8664 - val_accuracy: 0.5075\n",
      "Epoch 11/50\n",
      "13/13 [==============================] - 18s 1s/step - loss: 0.3683 - accuracy: 0.8438 - val_loss: 0.7162 - val_accuracy: 0.5896\n",
      "Epoch 12/50\n",
      "13/13 [==============================] - 17s 1s/step - loss: 0.3929 - accuracy: 0.8221 - val_loss: 0.6342 - val_accuracy: 0.5597\n",
      "Epoch 13/50\n",
      "13/13 [==============================] - 17s 1s/step - loss: 0.3224 - accuracy: 0.8798 - val_loss: 0.5333 - val_accuracy: 0.6716\n",
      "Epoch 14/50\n",
      "13/13 [==============================] - 18s 1s/step - loss: 0.2807 - accuracy: 0.9038 - val_loss: 0.7987 - val_accuracy: 0.5970\n",
      "Epoch 15/50\n",
      "13/13 [==============================] - 17s 1s/step - loss: 0.2803 - accuracy: 0.8990 - val_loss: 0.5290 - val_accuracy: 0.6940\n",
      "Epoch 16/50\n",
      "13/13 [==============================] - 19s 1s/step - loss: 0.2429 - accuracy: 0.9135 - val_loss: 0.8350 - val_accuracy: 0.5970\n",
      "Epoch 17/50\n",
      "13/13 [==============================] - 18s 1s/step - loss: 0.2882 - accuracy: 0.8990 - val_loss: 0.4373 - val_accuracy: 0.7910\n",
      "Epoch 18/50\n",
      "13/13 [==============================] - 19s 1s/step - loss: 0.2517 - accuracy: 0.9038 - val_loss: 0.4917 - val_accuracy: 0.7313\n",
      "Epoch 19/50\n",
      "13/13 [==============================] - 20s 2s/step - loss: 0.2109 - accuracy: 0.9303 - val_loss: 0.4441 - val_accuracy: 0.7836\n",
      "Epoch 20/50\n",
      "13/13 [==============================] - 21s 2s/step - loss: 0.1783 - accuracy: 0.9327 - val_loss: 0.6513 - val_accuracy: 0.6642\n",
      "Epoch 21/50\n",
      "13/13 [==============================] - 20s 2s/step - loss: 0.1580 - accuracy: 0.9423 - val_loss: 0.3932 - val_accuracy: 0.7910\n",
      "Epoch 22/50\n",
      "13/13 [==============================] - 19s 1s/step - loss: 0.1503 - accuracy: 0.9399 - val_loss: 0.7372 - val_accuracy: 0.6940\n",
      "Epoch 23/50\n",
      "13/13 [==============================] - 19s 1s/step - loss: 0.3161 - accuracy: 0.8534 - val_loss: 0.6890 - val_accuracy: 0.6567\n",
      "Epoch 24/50\n",
      "13/13 [==============================] - 20s 2s/step - loss: 0.2229 - accuracy: 0.9207 - val_loss: 0.4068 - val_accuracy: 0.7910\n",
      "Epoch 25/50\n",
      "13/13 [==============================] - 18s 1s/step - loss: 0.1424 - accuracy: 0.9688 - val_loss: 0.4636 - val_accuracy: 0.7761\n",
      "Epoch 26/50\n",
      "13/13 [==============================] - 17s 1s/step - loss: 0.1342 - accuracy: 0.9615 - val_loss: 0.4482 - val_accuracy: 0.7910\n",
      "Epoch 27/50\n",
      "13/13 [==============================] - 19s 1s/step - loss: 0.1120 - accuracy: 0.9663 - val_loss: 0.4225 - val_accuracy: 0.7985\n",
      "Epoch 28/50\n",
      "13/13 [==============================] - 19s 1s/step - loss: 0.1404 - accuracy: 0.9615 - val_loss: 0.2753 - val_accuracy: 0.8806\n",
      "Epoch 29/50\n",
      "13/13 [==============================] - 19s 1s/step - loss: 0.1460 - accuracy: 0.9495 - val_loss: 0.2607 - val_accuracy: 0.8881\n",
      "Epoch 30/50\n",
      "13/13 [==============================] - 24s 2s/step - loss: 0.1252 - accuracy: 0.9663 - val_loss: 0.3236 - val_accuracy: 0.8582\n",
      "Epoch 31/50\n",
      "13/13 [==============================] - 24s 2s/step - loss: 0.0920 - accuracy: 0.9663 - val_loss: 0.2237 - val_accuracy: 0.9179\n",
      "Epoch 32/50\n",
      "13/13 [==============================] - 21s 2s/step - loss: 0.1033 - accuracy: 0.9712 - val_loss: 0.2279 - val_accuracy: 0.9104\n",
      "Epoch 33/50\n",
      "13/13 [==============================] - 21s 2s/step - loss: 0.0703 - accuracy: 0.9784 - val_loss: 0.3509 - val_accuracy: 0.8955\n",
      "Epoch 34/50\n",
      "13/13 [==============================] - 20s 1s/step - loss: 0.0926 - accuracy: 0.9760 - val_loss: 0.2363 - val_accuracy: 0.9104\n",
      "Epoch 35/50\n",
      "13/13 [==============================] - 18s 1s/step - loss: 0.0803 - accuracy: 0.9832 - val_loss: 0.5031 - val_accuracy: 0.8209\n",
      "Epoch 36/50\n",
      "13/13 [==============================] - 20s 2s/step - loss: 0.0803 - accuracy: 0.9784 - val_loss: 0.2336 - val_accuracy: 0.9104\n",
      "Epoch 37/50\n",
      "13/13 [==============================] - 20s 2s/step - loss: 0.0690 - accuracy: 0.9880 - val_loss: 0.2945 - val_accuracy: 0.8657\n",
      "Epoch 38/50\n",
      "13/13 [==============================] - 18s 1s/step - loss: 0.0715 - accuracy: 0.9784 - val_loss: 0.2672 - val_accuracy: 0.8657\n",
      "Epoch 39/50\n",
      "13/13 [==============================] - 18s 1s/step - loss: 0.0669 - accuracy: 0.9784 - val_loss: 0.3363 - val_accuracy: 0.8433\n",
      "Epoch 40/50\n",
      "13/13 [==============================] - 21s 2s/step - loss: 0.0770 - accuracy: 0.9760 - val_loss: 0.2703 - val_accuracy: 0.8731\n",
      "Epoch 41/50\n",
      "13/13 [==============================] - 17s 1s/step - loss: 0.0633 - accuracy: 0.9880 - val_loss: 0.2434 - val_accuracy: 0.9030\n",
      "Epoch 42/50\n",
      "13/13 [==============================] - 17s 1s/step - loss: 0.0737 - accuracy: 0.9808 - val_loss: 0.2189 - val_accuracy: 0.9030\n",
      "Epoch 43/50\n",
      "13/13 [==============================] - 19s 1s/step - loss: 0.0567 - accuracy: 0.9856 - val_loss: 0.2147 - val_accuracy: 0.9254\n",
      "Epoch 44/50\n",
      "13/13 [==============================] - 18s 1s/step - loss: 0.0536 - accuracy: 0.9880 - val_loss: 0.2018 - val_accuracy: 0.9328\n",
      "Epoch 45/50\n",
      "13/13 [==============================] - 18s 1s/step - loss: 0.0622 - accuracy: 0.9856 - val_loss: 0.2583 - val_accuracy: 0.8731\n",
      "Epoch 46/50\n",
      "13/13 [==============================] - 17s 1s/step - loss: 0.0747 - accuracy: 0.9736 - val_loss: 0.2355 - val_accuracy: 0.9030\n",
      "Epoch 47/50\n",
      "13/13 [==============================] - 16s 1s/step - loss: 0.0828 - accuracy: 0.9736 - val_loss: 0.3880 - val_accuracy: 0.8582\n",
      "Epoch 48/50\n",
      "13/13 [==============================] - 16s 1s/step - loss: 0.1672 - accuracy: 0.9447 - val_loss: 0.4283 - val_accuracy: 0.8134\n",
      "Epoch 49/50\n",
      "13/13 [==============================] - 16s 1s/step - loss: 0.1303 - accuracy: 0.9591 - val_loss: 0.2046 - val_accuracy: 0.9104\n",
      "Epoch 50/50\n",
      "13/13 [==============================] - 15s 1s/step - loss: 0.0691 - accuracy: 0.9808 - val_loss: 0.1650 - val_accuracy: 0.9254\n"
     ]
    }
   ],
   "source": [
    "# fit the model\n",
    "# Run the cell. It will take some time to execute\n",
    "r = model.fit_generator(\n",
    "  training_set,\n",
    "  validation_data=test_set,\n",
    "  epochs=50,\n",
    "  steps_per_epoch=len(training_set),\n",
    "  validation_steps=len(test_set)\n",
    ")"
   ]
  },
  {
   "cell_type": "code",
   "execution_count": null,
   "metadata": {},
   "outputs": [],
   "source": []
  },
  {
   "cell_type": "code",
   "execution_count": 32,
   "metadata": {},
   "outputs": [
    {
     "data": {
      "image/png": "[encoded data removed]",
      "text/plain": [
       "<Figure size 640x480 with 1 Axes>"
      ]
     },
     "metadata": {},
     "output_type": "display_data"
    },
    {
     "data": {
      "image/png": "[encoded data removed]",
      "text/plain": [
       "<Figure size 640x480 with 1 Axes>"
      ]
     },
     "metadata": {},
     "output_type": "display_data"
    },
    {
     "data": {
      "text/plain": [
       "<Figure size 640x480 with 0 Axes>"
      ]
     },
     "metadata": {},
     "output_type": "display_data"
    }
   ],
   "source": [
    "# plot the loss\n",
    "plt.plot(r.history['loss'], label='train loss')\n",
    "plt.plot(r.history['val_loss'], label='val loss')\n",
    "plt.legend()\n",
    "plt.show()\n",
    "plt.savefig('LossVal_loss')\n",
    "\n",
    "# plot the accuracy\n",
    "plt.plot(r.history['accuracy'], label='train acc')\n",
    "plt.plot(r.history['val_accuracy'], label='val acc')\n",
    "plt.legend()\n",
    "plt.show()\n",
    "plt.savefig('AccVal_acc')"
   ]
  },
  {
   "cell_type": "code",
   "execution_count": 33,
   "metadata": {},
   "outputs": [
    {
     "name": "stderr",
     "output_type": "stream",
     "text": [
      "C:\\Users\\rajkr\\AppData\\Local\\Programs\\Python\\Python311\\Lib\\site-packages\\keras\\src\\engine\\training.py:3000: UserWarning: You are saving your model as an HDF5 file via `model.save()`. This file format is considered legacy. We recommend using instead the native Keras format, e.g. `model.save('my_model.keras')`.\n",
      "  saving_api.save_model(\n"
     ]
    }
   ],
   "source": [
    "# save it as a h5 file\n",
    "\n",
    "\n",
    "from tensorflow.keras.models import load_model\n",
    "\n",
    "model.save('model_vgg19.h5')"
   ]
  },
  {
   "cell_type": "code",
   "execution_count": null,
   "metadata": {},
   "outputs": [],
   "source": []
  },
  {
   "cell_type": "code",
   "execution_count": 34,
   "metadata": {},
   "outputs": [
    {
     "name": "stdout",
     "output_type": "stream",
     "text": [
      "5/5 [==============================] - 1s 135ms/step\n"
     ]
    }
   ],
   "source": [
    "\n",
    "y_pred = model.predict(test_set)\n"
   ]
  },
  {
   "cell_type": "code",
   "execution_count": 35,
   "metadata": {},
   "outputs": [
    {
     "data": {
      "text/plain": [
       "array([[9.9999464e-01, 5.3553090e-06],\n",
       "       [9.7136444e-01, 2.8635548e-02],\n",
       "       [1.0000000e+00, 7.3196399e-10],\n",
       "       [2.2106013e-01, 7.7893990e-01],\n",
       "       [9.3590248e-01, 6.4097568e-02],\n",
       "       [9.9892223e-01, 1.0777545e-03],\n",
       "       [9.9995637e-01, 4.3597662e-05],\n",
       "       [1.0000000e+00, 7.9952843e-11],\n",
       "       [9.9580295e-02, 9.0041971e-01],\n",
       "       [9.9999988e-01, 9.7243678e-08],\n",
       "       [1.0000000e+00, 4.0590127e-08],\n",
       "       [4.9604365e-01, 5.0395638e-01],\n",
       "       [9.9998188e-01, 1.8123872e-05],\n",
       "       [1.0000000e+00, 1.2948022e-15],\n",
       "       [1.8090683e-01, 8.1909323e-01],\n",
       "       [9.6022028e-01, 3.9779771e-02],\n",
       "       [2.4330143e-02, 9.7566980e-01],\n",
       "       [9.9982649e-01, 1.7358008e-04],\n",
       "       [4.6004009e-02, 9.5399600e-01],\n",
       "       [1.0000000e+00, 2.8647618e-10],\n",
       "       [9.9999547e-01, 4.5003544e-06],\n",
       "       [9.5077425e-01, 4.9225785e-02],\n",
       "       [2.0162005e-02, 9.7983801e-01],\n",
       "       [9.9620157e-01, 3.7984813e-03],\n",
       "       [8.3226269e-01, 1.6773732e-01],\n",
       "       [2.2513814e-01, 7.7486187e-01],\n",
       "       [9.9999702e-01, 2.9522987e-06],\n",
       "       [1.0576336e-01, 8.9423668e-01],\n",
       "       [4.5992456e-02, 9.5400751e-01],\n",
       "       [9.9981683e-01, 1.8316632e-04],\n",
       "       [6.2133050e-01, 3.7866944e-01],\n",
       "       [9.9887818e-01, 1.1218491e-03],\n",
       "       [9.8819740e-02, 9.0118033e-01],\n",
       "       [8.8801998e-01, 1.1198002e-01],\n",
       "       [9.9999952e-01, 5.1437479e-07],\n",
       "       [6.7828083e-01, 3.2171926e-01],\n",
       "       [9.8025221e-01, 1.9747881e-02],\n",
       "       [1.4763739e-02, 9.8523629e-01],\n",
       "       [1.1649451e-01, 8.8350546e-01],\n",
       "       [1.0000000e+00, 3.5389430e-08],\n",
       "       [9.9960679e-01, 3.9321257e-04],\n",
       "       [9.9999928e-01, 7.4053349e-07],\n",
       "       [9.9997747e-01, 2.2566826e-05],\n",
       "       [9.9997973e-01, 2.0301874e-05],\n",
       "       [9.9981850e-01, 1.8156192e-04],\n",
       "       [9.9924493e-01, 7.5513002e-04],\n",
       "       [1.0000000e+00, 2.7632817e-14],\n",
       "       [4.5542747e-02, 9.5445722e-01],\n",
       "       [1.0000000e+00, 4.3065786e-08],\n",
       "       [3.1219944e-01, 6.8780053e-01],\n",
       "       [9.9996471e-01, 3.5338118e-05],\n",
       "       [6.8182438e-03, 9.9318177e-01],\n",
       "       [6.8099163e-02, 9.3190086e-01],\n",
       "       [2.7076434e-02, 9.7292352e-01],\n",
       "       [9.9960774e-01, 3.9232016e-04],\n",
       "       [4.0760141e-02, 9.5923984e-01],\n",
       "       [9.6189544e-02, 9.0381044e-01],\n",
       "       [9.9993217e-01, 6.7811889e-05],\n",
       "       [7.3952019e-02, 9.2604792e-01],\n",
       "       [9.9999249e-01, 7.4834525e-06],\n",
       "       [9.9999976e-01, 2.1924338e-07],\n",
       "       [6.4482324e-02, 9.3551767e-01],\n",
       "       [9.9867272e-01, 1.3273213e-03],\n",
       "       [6.7607474e-01, 3.2392523e-01],\n",
       "       [5.2531213e-02, 9.4746876e-01],\n",
       "       [1.5472122e-01, 8.4527886e-01],\n",
       "       [9.9868327e-01, 1.3167516e-03],\n",
       "       [4.6372700e-02, 9.5362729e-01],\n",
       "       [9.9976593e-01, 2.3410349e-04],\n",
       "       [9.9942833e-01, 5.7160680e-04],\n",
       "       [6.5770388e-01, 3.4229609e-01],\n",
       "       [7.9837000e-01, 2.0163001e-01],\n",
       "       [9.9993253e-01, 6.7453351e-05],\n",
       "       [9.9995291e-01, 4.7030626e-05],\n",
       "       [9.9999464e-01, 5.3735321e-06],\n",
       "       [9.9999988e-01, 8.2950066e-08],\n",
       "       [2.0911857e-02, 9.7908813e-01],\n",
       "       [6.8924159e-01, 3.1075838e-01],\n",
       "       [2.1324921e-01, 7.8675073e-01],\n",
       "       [3.4514911e-02, 9.6548516e-01],\n",
       "       [8.0473475e-02, 9.1952652e-01],\n",
       "       [9.9820507e-01, 1.7949338e-03],\n",
       "       [1.1477861e-01, 8.8522142e-01],\n",
       "       [1.0000000e+00, 1.0899421e-11],\n",
       "       [1.3080688e-01, 8.6919314e-01],\n",
       "       [7.6285303e-01, 2.3714696e-01],\n",
       "       [1.1798790e-02, 9.8820120e-01],\n",
       "       [9.9187440e-01, 8.1255930e-03],\n",
       "       [9.9997604e-01, 2.3940125e-05],\n",
       "       [1.7971461e-01, 8.2028538e-01],\n",
       "       [1.2515093e-01, 8.7484914e-01],\n",
       "       [1.0958288e-01, 8.9041710e-01],\n",
       "       [9.9992085e-01, 7.9091711e-05],\n",
       "       [9.9993265e-01, 6.7374865e-05],\n",
       "       [9.9996293e-01, 3.7123711e-05],\n",
       "       [9.4535172e-01, 5.4648265e-02],\n",
       "       [9.9999881e-01, 1.1617602e-06],\n",
       "       [9.7909294e-02, 9.0209067e-01],\n",
       "       [5.5173355e-01, 4.4826648e-01],\n",
       "       [3.1861591e-01, 6.8138409e-01],\n",
       "       [9.9978226e-01, 2.1769610e-04],\n",
       "       [1.0000000e+00, 1.4003351e-08],\n",
       "       [9.9767143e-01, 2.3286021e-03],\n",
       "       [9.9981445e-01, 1.8559259e-04],\n",
       "       [1.0000000e+00, 8.8075858e-15],\n",
       "       [9.9984455e-01, 1.5539063e-04],\n",
       "       [1.6842622e-02, 9.8315734e-01],\n",
       "       [1.0000000e+00, 5.8111844e-08],\n",
       "       [9.9990857e-01, 9.1424488e-05],\n",
       "       [9.9557834e-03, 9.9004424e-01],\n",
       "       [9.9997687e-01, 2.3089371e-05],\n",
       "       [3.9431684e-02, 9.6056837e-01],\n",
       "       [7.8469440e-02, 9.2153054e-01],\n",
       "       [9.9573213e-01, 4.2679245e-03],\n",
       "       [9.9991536e-01, 8.4590778e-05],\n",
       "       [4.9405017e-01, 5.0594980e-01],\n",
       "       [9.9483359e-01, 5.1663485e-03],\n",
       "       [1.4663126e-01, 8.5336876e-01],\n",
       "       [9.9970144e-01, 2.9852343e-04],\n",
       "       [9.9983275e-01, 1.6726776e-04],\n",
       "       [2.4776755e-02, 9.7522324e-01],\n",
       "       [9.9970359e-01, 2.9637842e-04],\n",
       "       [9.9995804e-01, 4.1922372e-05],\n",
       "       [6.5179035e-02, 9.3482089e-01],\n",
       "       [9.9994922e-01, 5.0820196e-05],\n",
       "       [3.9363647e-01, 6.0636353e-01],\n",
       "       [7.4229228e-01, 2.5770769e-01],\n",
       "       [9.9999487e-01, 5.1067791e-06],\n",
       "       [1.9028839e-02, 9.8097116e-01],\n",
       "       [5.5689435e-02, 9.4431055e-01],\n",
       "       [1.0000000e+00, 2.1747322e-14],\n",
       "       [1.0000000e+00, 4.2191434e-08],\n",
       "       [1.3670832e-02, 9.8632914e-01],\n",
       "       [9.9853146e-01, 1.4685049e-03]], dtype=float32)"
      ]
     },
     "execution_count": 35,
     "metadata": {},
     "output_type": "execute_result"
    }
   ],
   "source": [
    "y_pred"
   ]
  },
  {
   "cell_type": "code",
   "execution_count": 36,
   "metadata": {},
   "outputs": [],
   "source": [
    "import numpy as np\n",
    "y_pred = np.argmax(y_pred, axis=1)"
   ]
  },
  {
   "cell_type": "code",
   "execution_count": 37,
   "metadata": {},
   "outputs": [
    {
     "data": {
      "text/plain": [
       "array([0, 0, 0, 1, 0, 0, 0, 0, 1, 0, 0, 1, 0, 0, 1, 0, 1, 0, 1, 0, 0, 0,\n",
       "       1, 0, 0, 1, 0, 1, 1, 0, 0, 0, 1, 0, 0, 0, 0, 1, 1, 0, 0, 0, 0, 0,\n",
       "       0, 0, 0, 1, 0, 1, 0, 1, 1, 1, 0, 1, 1, 0, 1, 0, 0, 1, 0, 0, 1, 1,\n",
       "       0, 1, 0, 0, 0, 0, 0, 0, 0, 0, 1, 0, 1, 1, 1, 0, 1, 0, 1, 0, 1, 0,\n",
       "       0, 1, 1, 1, 0, 0, 0, 0, 0, 1, 0, 1, 0, 0, 0, 0, 0, 0, 1, 0, 0, 1,\n",
       "       0, 1, 1, 0, 0, 1, 0, 1, 0, 0, 1, 0, 0, 1, 0, 1, 0, 0, 1, 1, 0, 0,\n",
       "       1, 0], dtype=int64)"
      ]
     },
     "execution_count": 37,
     "metadata": {},
     "output_type": "execute_result"
    }
   ],
   "source": [
    "y_pred"
   ]
  },
  {
   "cell_type": "code",
   "execution_count": null,
   "metadata": {},
   "outputs": [],
   "source": []
  },
  {
   "cell_type": "code",
   "execution_count": 38,
   "metadata": {},
   "outputs": [],
   "source": [
    "from tensorflow.keras.models import load_model\n",
    "from tensorflow.keras.preprocessing import image"
   ]
  },
  {
   "cell_type": "code",
   "execution_count": 39,
   "metadata": {},
   "outputs": [],
   "source": [
    "model=load_model('model_vgg19.h5')"
   ]
  },
  {
   "cell_type": "code",
   "execution_count": null,
   "metadata": {},
   "outputs": [],
   "source": []
  },
  {
   "cell_type": "code",
   "execution_count": 41,
   "metadata": {},
   "outputs": [],
   "source": [
    "img=image.load_img('Dataset/Dataset/Test/Uninfected/2.png',target_size=(224,224))\n",
    "\n"
   ]
  },
  {
   "cell_type": "code",
   "execution_count": 42,
   "metadata": {},
   "outputs": [
    {
     "data": {
      "text/plain": [
       "array([[[0., 0., 0.],\n",
       "        [0., 0., 0.],\n",
       "        [0., 0., 0.],\n",
       "        ...,\n",
       "        [0., 0., 0.],\n",
       "        [0., 0., 0.],\n",
       "        [0., 0., 0.]],\n",
       "\n",
       "       [[0., 0., 0.],\n",
       "        [0., 0., 0.],\n",
       "        [0., 0., 0.],\n",
       "        ...,\n",
       "        [0., 0., 0.],\n",
       "        [0., 0., 0.],\n",
       "        [0., 0., 0.]],\n",
       "\n",
       "       [[0., 0., 0.],\n",
       "        [0., 0., 0.],\n",
       "        [0., 0., 0.],\n",
       "        ...,\n",
       "        [0., 0., 0.],\n",
       "        [0., 0., 0.],\n",
       "        [0., 0., 0.]],\n",
       "\n",
       "       ...,\n",
       "\n",
       "       [[0., 0., 0.],\n",
       "        [0., 0., 0.],\n",
       "        [0., 0., 0.],\n",
       "        ...,\n",
       "        [0., 0., 0.],\n",
       "        [0., 0., 0.],\n",
       "        [0., 0., 0.]],\n",
       "\n",
       "       [[0., 0., 0.],\n",
       "        [0., 0., 0.],\n",
       "        [0., 0., 0.],\n",
       "        ...,\n",
       "        [0., 0., 0.],\n",
       "        [0., 0., 0.],\n",
       "        [0., 0., 0.]],\n",
       "\n",
       "       [[0., 0., 0.],\n",
       "        [0., 0., 0.],\n",
       "        [0., 0., 0.],\n",
       "        ...,\n",
       "        [0., 0., 0.],\n",
       "        [0., 0., 0.],\n",
       "        [0., 0., 0.]]], dtype=float32)"
      ]
     },
     "execution_count": 42,
     "metadata": {},
     "output_type": "execute_result"
    }
   ],
   "source": [
    "x=image.img_to_array(img)\n",
    "x"
   ]
  },
  {
   "cell_type": "code",
   "execution_count": 43,
   "metadata": {},
   "outputs": [
    {
     "data": {
      "text/plain": [
       "(224, 224, 3)"
      ]
     },
     "execution_count": 43,
     "metadata": {},
     "output_type": "execute_result"
    }
   ],
   "source": [
    "x.shape"
   ]
  },
  {
   "cell_type": "code",
   "execution_count": 44,
   "metadata": {},
   "outputs": [],
   "source": [
    "x=x/255"
   ]
  },
  {
   "cell_type": "code",
   "execution_count": 45,
   "metadata": {},
   "outputs": [
    {
     "data": {
      "text/plain": [
       "(1, 224, 224, 3)"
      ]
     },
     "execution_count": 45,
     "metadata": {},
     "output_type": "execute_result"
    }
   ],
   "source": [
    "x=np.expand_dims(x,axis=0)\n",
    "img_data=preprocess_input(x)\n",
    "img_data.shape"
   ]
  },
  {
   "cell_type": "code",
   "execution_count": 46,
   "metadata": {},
   "outputs": [
    {
     "name": "stdout",
     "output_type": "stream",
     "text": [
      "1/1 [==============================] - 0s 101ms/step\n"
     ]
    },
    {
     "data": {
      "text/plain": [
       "array([[0., 1.]], dtype=float32)"
      ]
     },
     "execution_count": 46,
     "metadata": {},
     "output_type": "execute_result"
    }
   ],
   "source": [
    "model.predict(img_data)"
   ]
  },
  {
   "cell_type": "code",
   "execution_count": 47,
   "metadata": {},
   "outputs": [
    {
     "name": "stdout",
     "output_type": "stream",
     "text": [
      "1/1 [==============================] - 0s 31ms/step\n"
     ]
    }
   ],
   "source": [
    "a=np.argmax(model.predict(img_data), axis=1)"
   ]
  },
  {
   "cell_type": "code",
   "execution_count": 48,
   "metadata": {},
   "outputs": [
    {
     "name": "stdout",
     "output_type": "stream",
     "text": [
      "Uninfected\n"
     ]
    }
   ],
   "source": [
    "if(a==1):\n",
    "    print(\"Uninfected\")\n",
    "else:\n",
    "    print(\"Infected\")"
   ]
  },
  {
   "cell_type": "code",
   "execution_count": null,
   "metadata": {},
   "outputs": [],
   "source": []
  },
  {
   "cell_type": "code",
   "execution_count": null,
   "metadata": {},
   "outputs": [],
   "source": []
  }
 ],
 "metadata": {
  "kernelspec": {
   "display_name": "Python 3 (ipykernel)",
   "language": "python",
   "name": "python3"
  },
  "language_info": {
   "codemirror_mode": {
    "name": "ipython",
    "version": 3
   },
   "file_extension": ".py",
   "mimetype": "text/x-python",
   "name": "python",
   "nbconvert_exporter": "python",
   "pygments_lexer": "ipython3",
   "version": "3.11.5"
  }
 },
 "nbformat": 4,
 "nbformat_minor": 4
}
